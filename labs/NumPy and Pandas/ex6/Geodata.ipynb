{
  "nbformat": 4,
  "nbformat_minor": 0,
  "metadata": {
    "colab": {
      "name": "Geodata.ipynb",
      "provenance": [],
      "collapsed_sections": []
    },
    "kernelspec": {
      "name": "python3",
      "display_name": "Python 3"
    }
  },
  "cells": [
    {
      "cell_type": "code",
      "metadata": {
        "id": "8LLx6VgBMtqA"
      },
      "source": [
        "from bs4 import BeautifulSoup\r\n",
        "import math\r\n",
        "\r\n",
        "xml=open('map.osm','r',encoding='utf8').read()\r\n",
        "soup = BeautifulSoup(xml,'lxml')\r\n",
        "\r\n",
        "#Выведем всем магазины и супермаркеты на фрагменте карты\r\n",
        "\r\n",
        "cc=0\r\n",
        "names={}\r\n",
        "name=''\r\n",
        "for node in soup.findAll('node'):\r\n",
        "  #print(node)\r\n",
        "  flag=False\r\n",
        "  for tag in node('tag'):\r\n",
        "    #print(tag)\r\n",
        "    if tag['k']=='shop' and tag['v']=='supermarket':\r\n",
        "      cc+=1\r\n",
        "      flag=True\r\n",
        "    if tag['k']=='name':\r\n",
        "      name=tag['v']\r\n",
        "  \r\n",
        "  if flag:\r\n",
        "    if name not in names:\r\n",
        "      names[name]=0\r\n",
        "    names[name]+=1\r\n",
        "\r\n",
        "\r\n",
        "print(names,end='\\n')"
      ],
      "execution_count": null,
      "outputs": []
    },
    {
      "cell_type": "code",
      "metadata": {
        "id": "7-Hn7NziT9Hi"
      },
      "source": [
        "supermarkets=list(names.items())\r\n",
        "print(supermarkets)\r\n",
        "\r\n",
        "def f(x):\r\n",
        "  return (-x[1],x[0])\r\n",
        "\r\n",
        "supermarkets.sort(key=f)\r\n",
        "for i in supermarkets:\r\n",
        "  print(*i)"
      ],
      "execution_count": null,
      "outputs": []
    },
    {
      "cell_type": "markdown",
      "metadata": {
        "id": "aBf57u1hT93y"
      },
      "source": [
        "Поработаем с  картой подгружая ее по участкам, чтобы не загружать разом слишком много данных. Передаем параметры через url."
      ]
    },
    {
      "cell_type": "code",
      "metadata": {
        "id": "994rLEO-UD9T"
      },
      "source": [
        "from bs4 import BeautifulSoup\r\n",
        "from urllib.request import urlopen, urlretrieve\r\n",
        "\r\n",
        "##Request URL: https://www.openstreetmap.org/api/0.6/map?bbox=131.8976%2C43.1208%2C131.9113%2C43.1298\r\n",
        "names={}\r\n",
        "minlat = 43.1125\r\n",
        "minlon = 131.9049\r\n",
        "\r\n",
        "maxlat = 43.1751\r\n",
        "maxlon = 131.9510\r\n",
        "\r\n",
        "dlat=(maxlat-minlat)/10\r\n",
        "dlon=(maxlon-minlon)/10\r\n",
        "\r\n",
        "for i in range(10):\r\n",
        "  for j in range(10):\r\n",
        "   # i=int(i)\r\n",
        "   # j=int(j)\r\n",
        "   # print(\"T = \",type(i))\r\n",
        "    nminlat = minlat+dlat*i \r\n",
        "    nmaxlat = minlat+dlat*(i+1)\r\n",
        "\r\n",
        "    nminlon=minlon+dlon*j\r\n",
        "    nmaxlon=minlon+dlon*(j+1)\r\n",
        "\r\n",
        "\r\n",
        "    #responce = urlopen('https://www.openstreetmap.org/api/0.6/map?bbox='+str(nminlon)+'%2C'+str(nminlat)\r\n",
        "    #+'%2C'+str(nmaxlon)+'%2C'+str(nmaxlat))\r\n",
        "    urlretrieve('https://www.openstreetmap.org/api/0.6/map?bbox='+str(nminlon)+'%2C'+str(nminlat)\r\n",
        "    +'%2C'+str(nmaxlon)+'%2C'+str(nmaxlat),'map1.osm')\r\n",
        "    xml=open('map1.osm','r',encoding='utf8').read()\r\n",
        "    \r\n",
        "    #xml=responce.read().decode('utf8')\r\n",
        "\r\n",
        "    soup = BeautifulSoup(xml,'lxml')\r\n",
        "\r\n",
        "    #print(soup)\r\n",
        "    cc=0\r\n",
        "\r\n",
        "    name=''\r\n",
        "    for node in soup.findAll('node'):\r\n",
        "      #print(node)\r\n",
        "      flag=False\r\n",
        "      for tag in node('tag'):\r\n",
        "        #print(tag)\r\n",
        "        if tag['k']=='shop' and tag['v']=='supermarket':\r\n",
        "          cc+=1\r\n",
        "          flag=True\r\n",
        "        if tag['k']=='name':\r\n",
        "          name=tag['v']\r\n",
        "      \r\n",
        "      if flag:\r\n",
        "        if name not in names:\r\n",
        "          names[name]=0\r\n",
        "        names[name]+=1\r\n",
        "\r\n",
        "\r\n",
        "    print(names,end='\\n')\r\n",
        "\r\n",
        "    supermarkets=list(names.items())\r\n",
        "    print(supermarkets)\r\n",
        "\r\n",
        "    def f(x):\r\n",
        "      return (-x[1],x[0])\r\n",
        "\r\n",
        "    print(\"Sector \",i,j)\r\n",
        "    supermarkets.sort(key=f)\r\n",
        "    for kk in supermarkets:\r\n",
        "      print(*kk)\r\n"
      ],
      "execution_count": null,
      "outputs": []
    },
    {
      "cell_type": "markdown",
      "metadata": {
        "id": "DbseEkk7UDr4"
      },
      "source": [
        "**Задание 1**\r\n",
        "\r\n",
        "В OpenStreetMap XML встречаются теги node, которые соответствуют некоторым точкам на карте. Ноды могут не только обозначать какой-то точечный объект, но и входить в состав way (некоторой линии, возможно замкнутой) и не иметь собственных тегов. Из map2.osm фрагмента карты посчитайте, сколько всего тегов node встречается на этой карте. В качестве ответа дайте одно число."
      ]
    },
    {
      "cell_type": "code",
      "metadata": {
        "id": "VLzgDc-ZV-6p"
      },
      "source": [
        "#Ваш код\r\n",
        "\r\n"
      ],
      "execution_count": null,
      "outputs": []
    },
    {
      "cell_type": "markdown",
      "metadata": {
        "id": "NAevlyNmV9MN"
      },
      "source": [
        "**Задание 2**\r\n",
        "\r\n",
        "В OpenStreetMap XML встречаются теги node, которые соответствуют некоторым точкам на карте. Ноды могут не только обозначать какой-то точечный объект, но и входить в состав way (некоторой линии, возможно замкнутой) и не иметь собственных тегов. Из map2.osm фрагмента карты посчитайте, сколько всего тегов node не содержат в себе ни одного тега tag (первое число в ответе), а сколько содержит хотя бы один тег tag (второе число в ответе). В качестве ответа дайте два числа через пробел."
      ]
    },
    {
      "cell_type": "code",
      "metadata": {
        "id": "dLsvQR-WV85A"
      },
      "source": [
        "#Ваш код\r\n",
        "\r\n"
      ],
      "execution_count": null,
      "outputs": []
    },
    {
      "cell_type": "markdown",
      "metadata": {
        "id": "M9orHKrSWTPH"
      },
      "source": [
        "**Задание 3**\r\n",
        "\r\n",
        "Вася решил открыть АЗС (заправку). Чтобы оценить уровень конкуренции он хочет изучить количество заправок в интересующем его районе. Вася скачал интересующий его кусок карты OSM map2.osm  и хочет посчитать, сколько на нём отмечено точечных объектов (node), являющихся заправкой. В качестве ответа вам необходимо вывести одно число - количество АЗС.\r\n",
        "\r\n",
        "Заправка в OSM обозначается парой ключ-значение amenity=fuel. Эта пара находится среди тегов tag внутри node.\r\n"
      ]
    },
    {
      "cell_type": "code",
      "metadata": {
        "id": "3PewoVJFWT0H"
      },
      "source": [
        "#Ваш код\r\n",
        "\r\n"
      ],
      "execution_count": null,
      "outputs": []
    },
    {
      "cell_type": "markdown",
      "metadata": {
        "id": "OmKTBrDaWobG"
      },
      "source": [
        "**Задание 4**\r\n",
        "\r\n",
        "Вася, открывший заправку в прошлой задаче, разорился. Конкуренция оказалась слишком большой. Вася предполагает, что это произошло от того, что теги заправки могут быть не только на точке, но и на каком-то контуре. Определите, сколько заправок на самом деле (не только обозначенных node, но и way) есть на фрагменте карты maps2.osm\r\n"
      ]
    },
    {
      "cell_type": "code",
      "metadata": {
        "id": "YUnxH2yZWo3x"
      },
      "source": [
        "#Ваш код\r\n",
        "\r\n"
      ],
      "execution_count": null,
      "outputs": []
    },
    {
      "cell_type": "markdown",
      "metadata": {
        "id": "5wieh4cTXUFl"
      },
      "source": [
        "**Задание 5**\r\n",
        "\r\n",
        "Вам дана область карты mapcity.osm\r\n",
        "\r\n",
        "Пройдите по всем way в этой области, выделите среди них замкнутые (те, у которых совпадает ссылка на первый и последний node), среди всех замкнутых выделите те, у которых установлен tag с ключом building и произвольным значением.\r\n",
        "\r\n",
        "Для каждого подходящего под условия way выведите две строки. В первой укажите одно число - id этого way. Во второй выведите список кортежей, содержащих координаты (широту и долготу) всех node, входящих в этот way. Для этого удобно сохранить все координаты в словарь, где ключом является id нода.\r\n",
        "\r\n",
        "Выводить ответы для подходящих way нужно в том порядке, в котором они встречаются во входном файле\r\n",
        "\r\n",
        "Если вы все делаете правильно, то ваш ответ должен начинаться со строки\r\n",
        "\r\n",
        "28889642 \r\n",
        "\r\n",
        "[(55.5652795, 37.5695507), (55.5651145, 37.5702288), (55.5648475, 37.5700314), (55.5650147, 37.5693509), (55.5652795, 37.5695507)]\r\n",
        "\r\n",
        "\r\n"
      ]
    },
    {
      "cell_type": "code",
      "metadata": {
        "id": "kYLsJrrUXcmA"
      },
      "source": [
        "#Ваш код\r\n",
        "\r\n"
      ],
      "execution_count": null,
      "outputs": []
    },
    {
      "cell_type": "markdown",
      "metadata": {
        "id": "3oCZ-P8jXtzU"
      },
      "source": [
        "**Задание 6**\r\n",
        "\r\n",
        "Вам дана область карты mapcity.osm\r\n",
        "\r\n",
        "Пройдите по всем way в этой области, выделите среди них замкнутые (те, у которых совпадает ссылка на первый и последний node), среди всех замкнутых выделите те, у которых установлен tag с ключом building и произвольным значением.\r\n",
        "\r\n",
        "Запомните id для way и список кортежей, содержащих координаты (широту и долготу) всех node, входящих в этот way. \r\n",
        "\r\n",
        "Вам предложена функция, которая определяет нечто похожее на площадь замкнутой ломаной.\r\n",
        "\r\n"
      ]
    },
    {
      "cell_type": "code",
      "metadata": {
        "id": "gqcXhsShXuP_"
      },
      "source": [
        "import math\r\n",
        "\r\n",
        "def getsqr(coordlist):\r\n",
        "  baselat = coordlist[0][0]\r\n",
        "  baselon = coordlist[0][1]\r\n",
        "  degreelen = 111300\r\n",
        "  newcoord = []\r\n",
        "  for now in coordlist:\r\n",
        "    newcoord.append(((now[0] - baselat) * degreelen, (now[1] - baselon) * degreelen * math.sin(baselat)))\r\n",
        "    sqr = 0\r\n",
        "    for i in range(len(newcoord) - 1):\r\n",
        "      sqr += newcoord[i][0] * newcoord[i + 1][1] - newcoord[i + 1][0] * newcoord[i][1]\r\n",
        "      sqr += newcoord[-1][0] * newcoord[0][1] - newcoord[0][0] * newcoord[-1][1]\r\n",
        "      \r\n",
        "  return abs(sqr)\r\n",
        "\r\n",
        "#Функция принимает на вход список с координатами точек так, как вы выводили его в предыдущей  задаче\r\n",
        "# (обратите внимание, что числа внутри кортежей должны иметь тип float).\r\n",
        "\r\n",
        "#С помощью этой функции найдите id для самого большого площади здания.\r\n",
        "\r\n"
      ],
      "execution_count": null,
      "outputs": []
    }
  ]
}